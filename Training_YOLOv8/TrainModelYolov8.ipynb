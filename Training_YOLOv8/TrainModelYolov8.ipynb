{
  "cells": [
    {
      "cell_type": "markdown",
      "metadata": {
        "id": "JqxRr38MMkA7"
      },
      "source": [
        "# 1. Setup environment"
      ]
    },
    {
      "cell_type": "code",
      "execution_count": null,
      "metadata": {
        "colab": {
          "base_uri": "https://localhost:8080/"
        },
        "id": "BKg9zBO_pNxC",
        "outputId": "d2a0e703-e8e4-40bb-9ce4-9997a74f6ccc"
      },
      "outputs": [],
      "source": [
        "!pip install ultralytics"
      ]
    },
    {
      "cell_type": "code",
      "execution_count": null,
      "metadata": {
        "colab": {
          "base_uri": "https://localhost:8080/"
        },
        "id": "rr1EthOwsXvj",
        "outputId": "3f633871-3c62-44a6-8aba-284b4e8baea2"
      },
      "outputs": [],
      "source": [
        "from ultralytics import YOLO\n",
        "import os\n",
        "from IPython.display import display, Image\n",
        "from IPython import display\n",
        "display.clear_output()\n",
        "!yolo checks"
      ]
    },
    {
      "cell_type": "markdown",
      "metadata": {
        "id": "-r13D4XzSXsI"
      },
      "source": [
        "# 2. Download dataset from Roboflow\n",
        "**License Plate Recognition - v4 resized640_aug3x-ACCURATE**\n",
        "\n",
        "This dataset was exported via roboflow.com on January 13, 2023 at 6:28 PM GMT\n",
        "\n",
        "The dataset includes 24242 images.\n",
        "License-plates are annotated in YOLOv8 format.\n",
        "\n",
        "The following pre-processing was applied to each image:\n",
        "* Auto-orientation of pixel data (with EXIF-orientation stripping)\n",
        "* Resize to 640x640 (Stretch)\n",
        "\n",
        "The following augmentation was applied to create 3 versions of each source image:\n",
        "* 50% probability of horizontal flip\n",
        "* Randomly crop between 0 and 15 percent of the image\n",
        "* Random rotation of between -10 and +10 degrees\n",
        "* Random shear of between -2° to +2° horizontally and -2° to +2° vertically\n",
        "* Random brigthness adjustment of between -15 and +15 percent\n",
        "* Random exposure adjustment of between -15 and +15 percent\n",
        "* Random Gaussian blur of between 0 and 0.5 pixels\n",
        "\n",
        "You can click [**here**](https://universe.roboflow.com/roboflow-universe-projects/license-plate-recognition-rxg4e) for more information about dataset."
      ]
    },
    {
      "cell_type": "code",
      "execution_count": null,
      "metadata": {
        "colab": {
          "base_uri": "https://localhost:8080/"
        },
        "id": "8W5Nr-iz3Hok",
        "outputId": "ca58b894-874b-4adc-f3d8-414d293bbac3"
      },
      "outputs": [],
      "source": [
        "!pip install roboflow\n",
        "\n",
        "from roboflow import Roboflow\n",
        "rf = Roboflow(api_key=\"Jpbah5sa91Yf8A3r6pSq\")\n",
        "project = rf.workspace(\"roboflow-universe-projects\").project(\"license-plate-recognition-rxg4e\")\n",
        "version = project.version(4)\n",
        "dataset = version.download(\"yolov8\")\n"
      ]
    },
    {
      "cell_type": "markdown",
      "metadata": {
        "id": "tlupK6rOW99g"
      },
      "source": [
        "# 3. Customize in Google Colab"
      ]
    },
    {
      "cell_type": "code",
      "execution_count": null,
      "metadata": {
        "colab": {
          "base_uri": "https://localhost:8080/"
        },
        "id": "GcATJg1o9ore",
        "outputId": "b2632a4b-dd85-4757-f0a2-895ae5d15cb3"
      },
      "outputs": [],
      "source": [
        "%cat /content/License-Plate-Recognition-4/data.yaml"
      ]
    },
    {
      "cell_type": "code",
      "execution_count": null,
      "metadata": {
        "id": "hpVwSNcL-TCm"
      },
      "outputs": [],
      "source": [
        "import yaml\n",
        "with open(\"/content/License-Plate-Recognition-4/data.yaml\", 'r') as stream:\n",
        "    num_classes = str(yaml.safe_load(stream)['nc'])"
      ]
    },
    {
      "cell_type": "code",
      "execution_count": null,
      "metadata": {
        "id": "nlCQnXnG-YwT"
      },
      "outputs": [],
      "source": [
        "#customize iPython writefile so we can write variables\n",
        "from IPython.core.magic import register_line_cell_magic\n",
        "\n",
        "@register_line_cell_magic\n",
        "def writetemplate(line, cell):\n",
        "    with open(line, 'w') as f:\n",
        "        f.write(cell.format(**globals()))"
      ]
    },
    {
      "cell_type": "code",
      "execution_count": null,
      "metadata": {
        "id": "AI1ubvtJ-cxL"
      },
      "outputs": [],
      "source": [
        "%%writetemplate /content/License-Plate-Recognition-4/data.yaml\n",
        "names:\n",
        "- License_Plate\n",
        "nc: 1\n",
        "roboflow:\n",
        "  license: CC BY 4.0\n",
        "  project: license-plate-recognition-rxg4e\n",
        "  url: https://universe.roboflow.com/roboflow-universe-projects/license-plate-recognition-rxg4e/dataset/4\n",
        "  version: 4\n",
        "  workspace: roboflow-universe-projects\n",
        "test: /content/License-Plate-Recognition-4/test/images\n",
        "train: /content/License-Plate-Recognition-4/train/images\n",
        "val: /content/License-Plate-Recognition-4/valid/images\n"
      ]
    },
    {
      "cell_type": "markdown",
      "metadata": {
        "id": "XTnDZvpoXV1x"
      },
      "source": [
        "# 4. Train model from pretrained model yolov8n"
      ]
    },
    {
      "cell_type": "code",
      "execution_count": null,
      "metadata": {
        "colab": {
          "base_uri": "https://localhost:8080/"
        },
        "id": "WQEcE6ea-wp1",
        "outputId": "cdbe1092-c4c4-4a6d-9620-e1672c955f4c"
      },
      "outputs": [],
      "source": [
        "!yolo task=detect mode=train model=yolov8n.pt data={dataset.location}/data.yaml epochs=10 imgsz=640"
      ]
    },
    {
      "cell_type": "markdown",
      "metadata": {
        "id": "uc_mrx5pXmld"
      },
      "source": [
        "# 5. Check the model on valid dataset\n"
      ]
    },
    {
      "cell_type": "code",
      "execution_count": null,
      "metadata": {
        "colab": {
          "base_uri": "https://localhost:8080/"
        },
        "id": "xOYsICed_W9T",
        "outputId": "953f5bde-9e16-4688-d55e-6b0a1a4e7b37"
      },
      "outputs": [],
      "source": [
        "!yolo task=detect mode=val model=/content/runs/detect/train/weights/best.pt data={dataset.location}/data.yaml"
      ]
    },
    {
      "cell_type": "markdown",
      "metadata": {
        "id": "6w720_OtYE1v"
      },
      "source": [
        "# 6. Test model"
      ]
    },
    {
      "cell_type": "code",
      "execution_count": null,
      "metadata": {
        "colab": {
          "base_uri": "https://localhost:8080/"
        },
        "id": "3uV3-y2tCLBF",
        "outputId": "7fcf4dd1-9a65-4aad-ca2d-2dcf41a00c04"
      },
      "outputs": [],
      "source": [
        "!yolo task=detect mode=predict model=/content/runs/detect/train/weights/best.pt conf=0.25 source={dataset.location}/test/images"
      ]
    },
    {
      "cell_type": "markdown",
      "metadata": {
        "id": "T671G1gpX8PZ"
      },
      "source": [
        "# 7. Results"
      ]
    },
    {
      "cell_type": "code",
      "execution_count": null,
      "metadata": {
        "colab": {
          "base_uri": "https://localhost:8080/",
          "height": 1000
        },
        "id": "F6r3TZaSCv-n",
        "outputId": "f78d0489-6cd5-4203-b5a8-c39d11f90b15"
      },
      "outputs": [],
      "source": [
        "import glob\n",
        "from IPython.display import Image, display\n",
        "\n",
        "for image_path in glob.glob('/content/runs/detect/predict/*.jpg')[:10]:\n",
        "      display(Image(filename=image_path, width=600))\n",
        "      print(\"\\n\")"
      ]
    },
    {
      "cell_type": "code",
      "execution_count": null,
      "metadata": {
        "colab": {
          "base_uri": "https://localhost:8080/"
        },
        "id": "f-8Krib4drdz",
        "outputId": "55b55e0d-960a-4627-94d4-cfcf15d2a4a4"
      },
      "outputs": [],
      "source": [
        "display(Image(filename='/content/runs/detect/train/results.png'))"
      ]
    },
    {
      "cell_type": "markdown",
      "metadata": {
        "id": "bhdKg8txbRdS"
      },
      "source": [
        "# 8. Download model after training (best.pt)"
      ]
    },
    {
      "cell_type": "code",
      "execution_count": null,
      "metadata": {
        "colab": {
          "base_uri": "https://localhost:8080/",
          "height": 17
        },
        "id": "M9ym9fM0bWr3",
        "outputId": "512407bd-59eb-4221-ea62-150383c4a417"
      },
      "outputs": [
        {
          "data": {
            "application/javascript": "\n    async function download(id, filename, size) {\n      if (!google.colab.kernel.accessAllowed) {\n        return;\n      }\n      const div = document.createElement('div');\n      const label = document.createElement('label');\n      label.textContent = `Downloading \"${filename}\": `;\n      div.appendChild(label);\n      const progress = document.createElement('progress');\n      progress.max = size;\n      div.appendChild(progress);\n      document.body.appendChild(div);\n\n      const buffers = [];\n      let downloaded = 0;\n\n      const channel = await google.colab.kernel.comms.open(id);\n      // Send a message to notify the kernel that we're ready.\n      channel.send({})\n\n      for await (const message of channel.messages) {\n        // Send a message to notify the kernel that we're ready.\n        channel.send({})\n        if (message.buffers) {\n          for (const buffer of message.buffers) {\n            buffers.push(buffer);\n            downloaded += buffer.byteLength;\n            progress.value = downloaded;\n          }\n        }\n      }\n      const blob = new Blob(buffers, {type: 'application/binary'});\n      const a = document.createElement('a');\n      a.href = window.URL.createObjectURL(blob);\n      a.download = filename;\n      div.appendChild(a);\n      a.click();\n      div.remove();\n    }\n  ",
            "text/plain": [
              "<IPython.core.display.Javascript object>"
            ]
          },
          "metadata": {},
          "output_type": "display_data"
        },
        {
          "data": {
            "application/javascript": "download(\"download_6f1b8166-7514-4b1e-b35b-02be5ce55155\", \"best.pt\", 6243171)",
            "text/plain": [
              "<IPython.core.display.Javascript object>"
            ]
          },
          "metadata": {},
          "output_type": "display_data"
        }
      ],
      "source": [
        "from google.colab import files\n",
        "files.download('/content/runs/detect/train/weights/best.pt')\n"
      ]
    }
  ],
  "metadata": {
    "accelerator": "GPU",
    "colab": {
      "gpuType": "T4",
      "provenance": []
    },
    "kernelspec": {
      "display_name": "Python 3",
      "name": "python3"
    },
    "language_info": {
      "name": "python"
    }
  },
  "nbformat": 4,
  "nbformat_minor": 0
}
